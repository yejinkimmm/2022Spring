{
  "nbformat": 4,
  "nbformat_minor": 0,
  "metadata": {
    "colab": {
      "name": "20220320_ipynb",
      "provenance": [],
      "authorship_tag": "ABX9TyNewjS8lHLeN4sifpc86VJS",
      "include_colab_link": true
    },
    "kernelspec": {
      "name": "python3",
      "display_name": "Python 3"
    },
    "language_info": {
      "name": "python"
    }
  },
  "cells": [
    {
      "cell_type": "markdown",
      "metadata": {
        "id": "view-in-github",
        "colab_type": "text"
      },
      "source": [
        "<a href=\"https://colab.research.google.com/github/yejinkimmm/2022Spring/blob/main/20220320_ipynb.ipynb\" target=\"_parent\"><img src=\"https://colab.research.google.com/assets/colab-badge.svg\" alt=\"Open In Colab\"/></a>"
      ]
    },
    {
      "cell_type": "code",
      "execution_count": null,
      "metadata": {
        "id": "sxtLu2nl1ru8"
      },
      "outputs": [],
      "source": [
        "a = 1\n",
        "b = 2\n",
        "c = 3"
      ]
    },
    {
      "cell_type": "markdown",
      "source": [
        "실행하면 변수가 내부적으로 들어감. 하나의 cell 단위로 실행이 되는 것.\n",
        "\n",
        "변수는 numbers, string 두 가지뿐임\n"
      ],
      "metadata": {
        "id": "jpsRC7MQ118U"
      }
    },
    {
      "cell_type": "code",
      "source": [
        "a = 1; print(type(a))"
      ],
      "metadata": {
        "colab": {
          "base_uri": "https://localhost:8080/"
        },
        "id": "6MU5eu9o2RRH",
        "outputId": "00b7a86b-ed0b-40a6-f7bc-bd9a281e34e9"
      },
      "execution_count": null,
      "outputs": [
        {
          "output_type": "stream",
          "name": "stdout",
          "text": [
            "<class 'int'>\n"
          ]
        }
      ]
    },
    {
      "cell_type": "markdown",
      "source": [
        "{x} 를 누르면 어떤 변수를 만들었는지 볼 수 있음 \n",
        "소수점 없는 걸 정수 int라고 부름  \n",
        "print는 보여달라는 것. "
      ],
      "metadata": {
        "id": "2Ia_kUlN2Xdi"
      }
    },
    {
      "cell_type": "code",
      "source": [
        "a = 1.1; print(type(a))"
      ],
      "metadata": {
        "colab": {
          "base_uri": "https://localhost:8080/"
        },
        "id": "o9XQrIlB24eP",
        "outputId": "55e1bc2b-c80c-4e91-d9da-441dc43d601f"
      },
      "execution_count": null,
      "outputs": [
        {
          "output_type": "stream",
          "name": "stdout",
          "text": [
            "<class 'float'>\n"
          ]
        }
      ]
    },
    {
      "cell_type": "code",
      "source": [
        "a = '123'; print(type(a)); print(a[1])"
      ],
      "metadata": {
        "colab": {
          "base_uri": "https://localhost:8080/"
        },
        "id": "5CZ5qDED3D4G",
        "outputId": "5d7dd947-b10a-4354-e17f-27fb23242092"
      },
      "execution_count": null,
      "outputs": [
        {
          "output_type": "stream",
          "name": "stdout",
          "text": [
            "<class 'str'>\n",
            "2\n"
          ]
        }
      ]
    },
    {
      "cell_type": "markdown",
      "source": [
        "string 쓰는 법. "
      ],
      "metadata": {
        "id": "8LHz7xzz3L44"
      }
    },
    {
      "cell_type": "code",
      "source": [
        "a = 'hello'; print(type(a)); print(a[1])"
      ],
      "metadata": {
        "colab": {
          "base_uri": "https://localhost:8080/"
        },
        "id": "lguEl3qH3QuO",
        "outputId": "f3274fc5-556a-4083-be31-aeb6178be064"
      },
      "execution_count": null,
      "outputs": [
        {
          "output_type": "stream",
          "name": "stdout",
          "text": [
            "<class 'str'>\n",
            "e\n"
          ]
        }
      ]
    },
    {
      "cell_type": "markdown",
      "source": [
        "string은 문자임. ''가 있으면 string이 된 것. list는 여러개를 담을 수 있음"
      ],
      "metadata": {
        "id": "Q_Mj8_WA3Wy6"
      }
    },
    {
      "cell_type": "code",
      "source": [
        "a = [1,2,3,4]; print(type(a)); print(a[0])"
      ],
      "metadata": {
        "colab": {
          "base_uri": "https://localhost:8080/"
        },
        "id": "kjyzYWyp3dtc",
        "outputId": "0fbc0f88-d44a-4733-85ae-54279ccee8c5"
      },
      "execution_count": null,
      "outputs": [
        {
          "output_type": "stream",
          "name": "stdout",
          "text": [
            "<class 'list'>\n",
            "1\n"
          ]
        }
      ]
    },
    {
      "cell_type": "code",
      "source": [
        "a[0]"
      ],
      "metadata": {
        "colab": {
          "base_uri": "https://localhost:8080/"
        },
        "id": "ynsh7Lgc3tPq",
        "outputId": "15373484-ee9e-466c-ec0e-cc0a2fda0ed5"
      },
      "execution_count": null,
      "outputs": [
        {
          "output_type": "execute_result",
          "data": {
            "text/plain": [
              "1"
            ]
          },
          "metadata": {},
          "execution_count": 8
        }
      ]
    },
    {
      "cell_type": "markdown",
      "source": [
        "a의 0번째라는 뜻. python은 0번째부터 시작함. 0번째를 가져온 것. 제일 마지막 줄은 print 안 해줘도 나옴. "
      ],
      "metadata": {
        "id": "Aohdsmtb34bI"
      }
    },
    {
      "cell_type": "code",
      "source": [
        "a[0:2]"
      ],
      "metadata": {
        "colab": {
          "base_uri": "https://localhost:8080/"
        },
        "id": "s2jcXSHo4HNz",
        "outputId": "2dfb3133-2ae6-43a7-9b3d-42bdc286f050"
      },
      "execution_count": null,
      "outputs": [
        {
          "output_type": "execute_result",
          "data": {
            "text/plain": [
              "[1, 2]"
            ]
          },
          "metadata": {},
          "execution_count": 9
        }
      ]
    },
    {
      "cell_type": "markdown",
      "source": [
        "첫번째부터 두번째 불러오기 "
      ],
      "metadata": {
        "id": "TGmYiRJ_4N7g"
      }
    },
    {
      "cell_type": "code",
      "source": [
        "a[0:-1]"
      ],
      "metadata": {
        "colab": {
          "base_uri": "https://localhost:8080/"
        },
        "id": "31CKtiPm4cdh",
        "outputId": "7e9871a9-649f-4364-879f-727a922beb7a"
      },
      "execution_count": null,
      "outputs": [
        {
          "output_type": "execute_result",
          "data": {
            "text/plain": [
              "[1, 2, 3]"
            ]
          },
          "metadata": {},
          "execution_count": 10
        }
      ]
    },
    {
      "cell_type": "markdown",
      "source": [
        "0번째부터 마지막 끝 한 개 전까지"
      ],
      "metadata": {
        "id": "gTale1oH4gfu"
      }
    },
    {
      "cell_type": "code",
      "source": [
        "a[:4]"
      ],
      "metadata": {
        "colab": {
          "base_uri": "https://localhost:8080/"
        },
        "id": "3GcnMle74t0I",
        "outputId": "fb4804c8-48b0-465c-d1de-97a8136cd49c"
      },
      "execution_count": null,
      "outputs": [
        {
          "output_type": "execute_result",
          "data": {
            "text/plain": [
              "[1, 2, 3, 4]"
            ]
          },
          "metadata": {},
          "execution_count": 12
        }
      ]
    },
    {
      "cell_type": "markdown",
      "source": [
        "처음부터 끝까지 "
      ],
      "metadata": {
        "id": "d4Qm0tZV4xNr"
      }
    },
    {
      "cell_type": "code",
      "source": [
        "a = [1, 'a', [3,'4']];"
      ],
      "metadata": {
        "id": "pfD7Mwu640VA"
      },
      "execution_count": null,
      "outputs": []
    },
    {
      "cell_type": "code",
      "source": [
        "a[2][1]"
      ],
      "metadata": {
        "colab": {
          "base_uri": "https://localhost:8080/",
          "height": 36
        },
        "id": "hzZvXJ4u4831",
        "outputId": "1e215d63-167a-4d7f-9178-9ecee72e6a47"
      },
      "execution_count": null,
      "outputs": [
        {
          "output_type": "execute_result",
          "data": {
            "text/plain": [
              "'4'"
            ],
            "application/vnd.google.colaboratory.intrinsic+json": {
              "type": "string"
            }
          },
          "metadata": {},
          "execution_count": 14
        }
      ]
    },
    {
      "cell_type": "markdown",
      "source": [
        "[]안에 있는 것부터 다시 계산"
      ],
      "metadata": {
        "id": "fUnCQvcM5CZ6"
      }
    },
    {
      "cell_type": "code",
      "source": [
        "a = 'abcdef123'"
      ],
      "metadata": {
        "id": "5Hy5sk9I5WzK"
      },
      "execution_count": null,
      "outputs": []
    },
    {
      "cell_type": "code",
      "source": [
        "a[3:-1]"
      ],
      "metadata": {
        "colab": {
          "base_uri": "https://localhost:8080/",
          "height": 36
        },
        "id": "wffvnsp85Z0R",
        "outputId": "02e2466d-e3f8-4b76-acb7-e0a1d9c8e481"
      },
      "execution_count": null,
      "outputs": [
        {
          "output_type": "execute_result",
          "data": {
            "text/plain": [
              "'def12'"
            ],
            "application/vnd.google.colaboratory.intrinsic+json": {
              "type": "string"
            }
          },
          "metadata": {},
          "execution_count": 16
        }
      ]
    },
    {
      "cell_type": "markdown",
      "source": [
        "0123인 d부터 마지막에서 두번째. string은 index하는 법이 똑같음. \n",
        "변수의 종료: 숫자, string, list, dict. a=()이건 tuple"
      ],
      "metadata": {
        "id": "-0Y0uCcr5gIR"
      }
    },
    {
      "cell_type": "code",
      "source": [
        "print(a[1] + a[2])"
      ],
      "metadata": {
        "colab": {
          "base_uri": "https://localhost:8080/"
        },
        "id": "S_f8UHAy59mr",
        "outputId": "b2d08daa-1a96-4eaf-8b3e-9e118b50761a"
      },
      "execution_count": null,
      "outputs": [
        {
          "output_type": "stream",
          "name": "stdout",
          "text": [
            "bc\n"
          ]
        }
      ]
    },
    {
      "cell_type": "code",
      "source": [
        "a = {\"a\": \"apple\", \"b\": \"orange\", \"c\":2014}"
      ],
      "metadata": {
        "id": "lENoUKoD6HhF"
      },
      "execution_count": null,
      "outputs": []
    },
    {
      "cell_type": "code",
      "source": [
        "a[\"a\"]"
      ],
      "metadata": {
        "colab": {
          "base_uri": "https://localhost:8080/",
          "height": 36
        },
        "id": "9mK8sdLn6Sky",
        "outputId": "1344a901-3793-487c-af98-57fe310f5c18"
      },
      "execution_count": null,
      "outputs": [
        {
          "output_type": "execute_result",
          "data": {
            "text/plain": [
              "'apple'"
            ],
            "application/vnd.google.colaboratory.intrinsic+json": {
              "type": "string"
            }
          },
          "metadata": {},
          "execution_count": 21
        }
      ]
    },
    {
      "cell_type": "markdown",
      "source": [
        "a 안에 있는 걸 가져와라 "
      ],
      "metadata": {
        "id": "e9NNe5kP6aU0"
      }
    },
    {
      "cell_type": "code",
      "source": [
        "from google.colab import drive\n",
        "drive.mount('/content/drive')"
      ],
      "metadata": {
        "id": "BPuCliGS-r-l"
      },
      "execution_count": null,
      "outputs": []
    }
  ]
}