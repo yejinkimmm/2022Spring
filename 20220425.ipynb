{
  "nbformat": 4,
  "nbformat_minor": 0,
  "metadata": {
    "colab": {
      "name": "20220425.ipynb ",
      "provenance": [],
      "authorship_tag": "ABX9TyOVBA/z555nV43fYbG7OF8b",
      "include_colab_link": true
    },
    "kernelspec": {
      "name": "python3",
      "display_name": "Python 3"
    },
    "language_info": {
      "name": "python"
    }
  },
  "cells": [
    {
      "cell_type": "markdown",
      "metadata": {
        "id": "view-in-github",
        "colab_type": "text"
      },
      "source": [
        "<a href=\"https://colab.research.google.com/github/yejinkimmm/2022Spring/blob/main/20220425.ipynb\" target=\"_parent\"><img src=\"https://colab.research.google.com/assets/colab-badge.svg\" alt=\"Open In Colab\"/></a>"
      ]
    },
    {
      "cell_type": "code",
      "execution_count": null,
      "metadata": {
        "id": "v06FDwHmMKwH"
      },
      "outputs": [],
      "source": [
        ""
      ]
    },
    {
      "cell_type": "markdown",
      "source": [
        "* auto-correlation\n",
        " 어떤 확률변수가 주어졌을 때, 서로 다른 두 시점에서의 관측치 사이에 나타나는 상관성을 “자기상관성(autocorrelation)”이라 함 "
      ],
      "metadata": {
        "id": "PauXvJk9MtMo"
      }
    },
    {
      "cell_type": "markdown",
      "source": [
        " * RMS \n",
        " RMS는 제곱평균제곱근(root mean square; rms) 혹은 이차평균(quadratic mean)으로 변화하는 값의 크기에 대한 통계적 척도임. 특히 사인함수처럼 변수들이 음과 양을 오고 갈 때에 유용함 "
      ],
      "metadata": {
        "id": "hMccOuqaMzrc"
      }
    }
  ]
}